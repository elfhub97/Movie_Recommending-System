{
 "cells": [
  {
   "cell_type": "markdown",
   "id": "8d5f91bb",
   "metadata": {},
   "source": [
    " # Recommender Systems"
   ]
  },
  {
   "cell_type": "markdown",
   "id": "99935d15",
   "metadata": {},
   "source": [
    "<img src=\"https://cdn-gkenl.nitrocdn.com/uMXnJIMvZJzBKtDYnZeeVwfFXPbPMFBY/assets/static/optimized/rev-e313826/wp-content/uploads/2021/06/recommendersystemblog1.jpg\">"
   ]
  },
  {
   "cell_type": "markdown",
   "id": "b91a9479",
   "metadata": {},
   "source": [
    "## Introduction :\n",
    "     \n",
    "     A recommender system is a compelling information filtering system running on machine learning (ML) algorithms that can predict a customer’s ratings or preferences for a product. \n",
    "    There are two methods to construct a recommender system : \n",
    "    1. Content-based recommendation \n",
    "    2. Collaborative Filtering\n",
    "    \n",
    "   Content-based recommendation is dependent on keyword searching techniques. \n",
    "   Collaborative Filtering finds out similar users based on user-item interactions.\n",
    "   \n",
    "   Here I have used both types to create a movie recommender system.\n",
    "    \n"
   ]
  },
  {
   "cell_type": "markdown",
   "id": "5e039e09",
   "metadata": {},
   "source": [
    "### Data set:\n",
    "**MovieLens 25M Dataset**\n",
    "\n",
    "This dataset (ml-25m) describes 5-star rating and free-text tagging activity from MovieLens, a movie recommendation service. It contains 25000095 ratings and 1093360 tag applications across 62423 movies. These data were created by 162541 users between January 09, 1995 and November 21, 2019. This dataset was generated on November 21, 2019.\n",
    "\n"
   ]
  },
  {
   "cell_type": "markdown",
   "id": "e16cd642",
   "metadata": {},
   "source": [
    "ML algorithm Used:\n",
    "\n",
    "    **cosine_similarity**\n",
    "    \n",
    "cosine similarity would yield a similarity matrix for the selected textual data for recommendation and the content with higher similarity scores"
   ]
  },
  {
   "cell_type": "markdown",
   "id": "ca481920",
   "metadata": {},
   "source": [
    "## Table of Contents\n",
    "Import Libraries\n",
    "\n",
    "Checking DataSet\n",
    "\n",
    "Recommended system: Title Similarity\n",
    ">Creating Search Function\n",
    "\n",
    "Recommended system: User ratings\n",
    "\n",
    "Movie Recommentaions\n",
    "\n"
   ]
  },
  {
   "cell_type": "code",
   "execution_count": 2,
   "id": "70771c56",
   "metadata": {},
   "outputs": [],
   "source": [
    "import numpy as np \n",
    "import pandas as pd\n",
    "from colorama import init, Fore, Back, Style\n",
    "\n",
    "\n",
    "import ipywidgets as wid\n",
    "from IPython.display import display"
   ]
  },
  {
   "cell_type": "code",
   "execution_count": 3,
   "id": "402b62f1",
   "metadata": {},
   "outputs": [
    {
     "data": {
      "text/html": [
       "<div>\n",
       "<style scoped>\n",
       "    .dataframe tbody tr th:only-of-type {\n",
       "        vertical-align: middle;\n",
       "    }\n",
       "\n",
       "    .dataframe tbody tr th {\n",
       "        vertical-align: top;\n",
       "    }\n",
       "\n",
       "    .dataframe thead th {\n",
       "        text-align: right;\n",
       "    }\n",
       "</style>\n",
       "<table border=\"1\" class=\"dataframe\">\n",
       "  <thead>\n",
       "    <tr style=\"text-align: right;\">\n",
       "      <th></th>\n",
       "      <th>movieId</th>\n",
       "      <th>title</th>\n",
       "      <th>genres</th>\n",
       "    </tr>\n",
       "  </thead>\n",
       "  <tbody>\n",
       "    <tr>\n",
       "      <th>37405</th>\n",
       "      <td>152575</td>\n",
       "      <td>Butcher, Baker, Nightmare Maker (1982)</td>\n",
       "      <td>Horror</td>\n",
       "    </tr>\n",
       "    <tr>\n",
       "      <th>54825</th>\n",
       "      <td>190471</td>\n",
       "      <td>Chicken with Vinegar (1985)</td>\n",
       "      <td>Comedy|Crime|Mystery|Romance</td>\n",
       "    </tr>\n",
       "    <tr>\n",
       "      <th>14168</th>\n",
       "      <td>73344</td>\n",
       "      <td>Prophet, A (Un Prophète) (2009)</td>\n",
       "      <td>Crime|Drama</td>\n",
       "    </tr>\n",
       "    <tr>\n",
       "      <th>15270</th>\n",
       "      <td>80622</td>\n",
       "      <td>Rhapsody in Blue (1945)</td>\n",
       "      <td>Drama|Musical</td>\n",
       "    </tr>\n",
       "    <tr>\n",
       "      <th>16114</th>\n",
       "      <td>85014</td>\n",
       "      <td>Autumn Leaves (1956)</td>\n",
       "      <td>Drama</td>\n",
       "    </tr>\n",
       "  </tbody>\n",
       "</table>\n",
       "</div>"
      ],
      "text/plain": [
       "       movieId                                   title  \\\n",
       "37405   152575  Butcher, Baker, Nightmare Maker (1982)   \n",
       "54825   190471             Chicken with Vinegar (1985)   \n",
       "14168    73344         Prophet, A (Un Prophète) (2009)   \n",
       "15270    80622                 Rhapsody in Blue (1945)   \n",
       "16114    85014                    Autumn Leaves (1956)   \n",
       "\n",
       "                             genres  \n",
       "37405                        Horror  \n",
       "54825  Comedy|Crime|Mystery|Romance  \n",
       "14168                   Crime|Drama  \n",
       "15270                 Drama|Musical  \n",
       "16114                         Drama  "
      ]
     },
     "execution_count": 3,
     "metadata": {},
     "output_type": "execute_result"
    }
   ],
   "source": [
    "movie_df=pd.read_csv('movies.csv')\n",
    "movie_df.sample(5)"
   ]
  },
  {
   "cell_type": "markdown",
   "id": "de68caa6",
   "metadata": {},
   "source": [
    "## Claenaing the dataset"
   ]
  },
  {
   "cell_type": "code",
   "execution_count": 4,
   "id": "b7784b69",
   "metadata": {},
   "outputs": [],
   "source": [
    "import re\n",
    "\n",
    "def clean_title(title):\n",
    "    title = re.sub(\"[^a-zA-Z0-9 ]\", \"\", title)\n",
    "    return title"
   ]
  },
  {
   "cell_type": "code",
   "execution_count": 5,
   "id": "bb5d0e12",
   "metadata": {},
   "outputs": [],
   "source": [
    "movie_df[\"clean_title\"] = movie_df[\"title\"].apply(clean_title)"
   ]
  },
  {
   "cell_type": "code",
   "execution_count": 6,
   "id": "d8fc018e",
   "metadata": {},
   "outputs": [
    {
     "data": {
      "text/html": [
       "<div>\n",
       "<style scoped>\n",
       "    .dataframe tbody tr th:only-of-type {\n",
       "        vertical-align: middle;\n",
       "    }\n",
       "\n",
       "    .dataframe tbody tr th {\n",
       "        vertical-align: top;\n",
       "    }\n",
       "\n",
       "    .dataframe thead th {\n",
       "        text-align: right;\n",
       "    }\n",
       "</style>\n",
       "<table border=\"1\" class=\"dataframe\">\n",
       "  <thead>\n",
       "    <tr style=\"text-align: right;\">\n",
       "      <th></th>\n",
       "      <th>movieId</th>\n",
       "      <th>title</th>\n",
       "      <th>genres</th>\n",
       "      <th>clean_title</th>\n",
       "    </tr>\n",
       "  </thead>\n",
       "  <tbody>\n",
       "    <tr>\n",
       "      <th>45617</th>\n",
       "      <td>170755</td>\n",
       "      <td>Small Town Killers (2017)</td>\n",
       "      <td>Comedy|Crime</td>\n",
       "      <td>Small Town Killers 2017</td>\n",
       "    </tr>\n",
       "    <tr>\n",
       "      <th>3152</th>\n",
       "      <td>3245</td>\n",
       "      <td>I Am Cuba (Soy Cuba/Ya Kuba) (1964)</td>\n",
       "      <td>Drama</td>\n",
       "      <td>I Am Cuba Soy CubaYa Kuba 1964</td>\n",
       "    </tr>\n",
       "    <tr>\n",
       "      <th>25804</th>\n",
       "      <td>124550</td>\n",
       "      <td>Monday Night Mayhem (2002)</td>\n",
       "      <td>Drama</td>\n",
       "      <td>Monday Night Mayhem 2002</td>\n",
       "    </tr>\n",
       "    <tr>\n",
       "      <th>14261</th>\n",
       "      <td>73983</td>\n",
       "      <td>Maid, The (Nana, La) (2009)</td>\n",
       "      <td>Drama</td>\n",
       "      <td>Maid The Nana La 2009</td>\n",
       "    </tr>\n",
       "    <tr>\n",
       "      <th>60129</th>\n",
       "      <td>202531</td>\n",
       "      <td>The Last Resort (2018)</td>\n",
       "      <td>Documentary</td>\n",
       "      <td>The Last Resort 2018</td>\n",
       "    </tr>\n",
       "  </tbody>\n",
       "</table>\n",
       "</div>"
      ],
      "text/plain": [
       "       movieId                                title        genres  \\\n",
       "45617   170755            Small Town Killers (2017)  Comedy|Crime   \n",
       "3152      3245  I Am Cuba (Soy Cuba/Ya Kuba) (1964)         Drama   \n",
       "25804   124550           Monday Night Mayhem (2002)         Drama   \n",
       "14261    73983          Maid, The (Nana, La) (2009)         Drama   \n",
       "60129   202531               The Last Resort (2018)   Documentary   \n",
       "\n",
       "                          clean_title  \n",
       "45617         Small Town Killers 2017  \n",
       "3152   I Am Cuba Soy CubaYa Kuba 1964  \n",
       "25804        Monday Night Mayhem 2002  \n",
       "14261           Maid The Nana La 2009  \n",
       "60129            The Last Resort 2018  "
      ]
     },
     "execution_count": 6,
     "metadata": {},
     "output_type": "execute_result"
    }
   ],
   "source": [
    "movie_df.sample(5)"
   ]
  },
  {
   "cell_type": "code",
   "execution_count": 7,
   "id": "9afe63ee",
   "metadata": {},
   "outputs": [],
   "source": [
    "movie_df.to_csv(\"movies_Cleaned.csv\")"
   ]
  },
  {
   "cell_type": "markdown",
   "id": "8c91cb0f",
   "metadata": {},
   "source": [
    "## Recommended system: Title Similarity"
   ]
  },
  {
   "cell_type": "code",
   "execution_count": 8,
   "id": "27667f87",
   "metadata": {},
   "outputs": [],
   "source": [
    "from sklearn.feature_extraction.text import TfidfVectorizer\n",
    "vectorizer = TfidfVectorizer(ngram_range=(1,2))\n",
    "\n",
    "tfidf = vectorizer.fit_transform(movie_df[\"clean_title\"])"
   ]
  },
  {
   "cell_type": "code",
   "execution_count": 9,
   "id": "051d7ae4",
   "metadata": {},
   "outputs": [],
   "source": [
    "from sklearn.metrics.pairwise import cosine_similarity\n",
    "\n",
    "def search(tittle):\n",
    "    #tittle=\"Harry Potter\"\n",
    "    tittle=clean_title(tittle)\n",
    "    queary=vectorizer.transform([tittle])\n",
    "    sim=cosine_similarity(queary,tfidf).flatten()\n",
    "    i=np.argpartition(sim,-7)[-7:]\n",
    "    result=movie_df.iloc[i][::-1]\n",
    "    return result\n"
   ]
  },
  {
   "cell_type": "markdown",
   "id": "7af57d8e",
   "metadata": {},
   "source": [
    "Now we are getting results realted to our query. Instaed of giving query via\n",
    "code I am gonna build a user interactive search box using Python widgets"
   ]
  },
  {
   "cell_type": "code",
   "execution_count": 36,
   "id": "367de2ec",
   "metadata": {},
   "outputs": [
    {
     "data": {
      "application/vnd.jupyter.widget-view+json": {
       "model_id": "2d9b7759c1534df6a12f6f5d8dc8f97a",
       "version_major": 2,
       "version_minor": 0
      },
      "text/plain": [
       "Text(value=' ', description='Movie Title:')"
      ]
     },
     "metadata": {},
     "output_type": "display_data"
    },
    {
     "data": {
      "application/vnd.jupyter.widget-view+json": {
       "model_id": "163db5e676364050a1b32dc6a237ba36",
       "version_major": 2,
       "version_minor": 0
      },
      "text/plain": [
       "Output()"
      ]
     },
     "metadata": {},
     "output_type": "display_data"
    }
   ],
   "source": [
    "movie_search=wid.Text(\n",
    "              value=\" \",\n",
    "               description=\"Movie Title:\",\n",
    "                disabled=False\n",
    ")\n",
    "\n",
    "movie_list=wid.Output()\n",
    "\n",
    "def search_type(data):\n",
    "    with movie_list:\n",
    "        movie_list.clear_output()\n",
    "        display(data)\n",
    "        tittle=data[\"new\"]\n",
    "        if len(tittle)>3:\n",
    "            display(search(tittle))\n",
    "            \n",
    "movie_search.observe(search_type,names=\"value\")\n",
    "\n",
    "\n",
    "\n",
    "display(movie_search,movie_list)"
   ]
  },
  {
   "cell_type": "markdown",
   "id": "c2b3d1cd",
   "metadata": {},
   "source": [
    "New search box using widgets creatd!!!👻 max of 7 results can be produced with this."
   ]
  },
  {
   "cell_type": "markdown",
   "id": "2aa93fb0",
   "metadata": {},
   "source": [
    "## Recommended system: User Ratings"
   ]
  },
  {
   "cell_type": "code",
   "execution_count": 11,
   "id": "6ec03bc9",
   "metadata": {},
   "outputs": [
    {
     "data": {
      "text/html": [
       "<div>\n",
       "<style scoped>\n",
       "    .dataframe tbody tr th:only-of-type {\n",
       "        vertical-align: middle;\n",
       "    }\n",
       "\n",
       "    .dataframe tbody tr th {\n",
       "        vertical-align: top;\n",
       "    }\n",
       "\n",
       "    .dataframe thead th {\n",
       "        text-align: right;\n",
       "    }\n",
       "</style>\n",
       "<table border=\"1\" class=\"dataframe\">\n",
       "  <thead>\n",
       "    <tr style=\"text-align: right;\">\n",
       "      <th></th>\n",
       "      <th>userId</th>\n",
       "      <th>movieId</th>\n",
       "      <th>rating</th>\n",
       "      <th>timestamp</th>\n",
       "    </tr>\n",
       "  </thead>\n",
       "  <tbody>\n",
       "    <tr>\n",
       "      <th>20822420</th>\n",
       "      <td>135429</td>\n",
       "      <td>3018</td>\n",
       "      <td>4.0</td>\n",
       "      <td>1057597963</td>\n",
       "    </tr>\n",
       "    <tr>\n",
       "      <th>4817036</th>\n",
       "      <td>31458</td>\n",
       "      <td>2710</td>\n",
       "      <td>2.0</td>\n",
       "      <td>1111474992</td>\n",
       "    </tr>\n",
       "    <tr>\n",
       "      <th>3346990</th>\n",
       "      <td>22175</td>\n",
       "      <td>4801</td>\n",
       "      <td>3.0</td>\n",
       "      <td>1197794459</td>\n",
       "    </tr>\n",
       "    <tr>\n",
       "      <th>12715141</th>\n",
       "      <td>82233</td>\n",
       "      <td>79</td>\n",
       "      <td>4.0</td>\n",
       "      <td>834329435</td>\n",
       "    </tr>\n",
       "    <tr>\n",
       "      <th>1288314</th>\n",
       "      <td>8680</td>\n",
       "      <td>1985</td>\n",
       "      <td>1.0</td>\n",
       "      <td>944913392</td>\n",
       "    </tr>\n",
       "  </tbody>\n",
       "</table>\n",
       "</div>"
      ],
      "text/plain": [
       "          userId  movieId  rating   timestamp\n",
       "20822420  135429     3018     4.0  1057597963\n",
       "4817036    31458     2710     2.0  1111474992\n",
       "3346990    22175     4801     3.0  1197794459\n",
       "12715141   82233       79     4.0   834329435\n",
       "1288314     8680     1985     1.0   944913392"
      ]
     },
     "execution_count": 11,
     "metadata": {},
     "output_type": "execute_result"
    }
   ],
   "source": [
    "ratings=pd.read_csv('ratings.csv')\n",
    "ratings.sample(5)"
   ]
  },
  {
   "cell_type": "code",
   "execution_count": 12,
   "id": "2d427854",
   "metadata": {},
   "outputs": [
    {
     "data": {
      "text/plain": [
       "userId         int64\n",
       "movieId        int64\n",
       "rating       float64\n",
       "timestamp      int64\n",
       "dtype: object"
      ]
     },
     "execution_count": 12,
     "metadata": {},
     "output_type": "execute_result"
    }
   ],
   "source": [
    "ratings.dtypes"
   ]
  },
  {
   "cell_type": "markdown",
   "id": "24ce2102",
   "metadata": {},
   "source": [
    "All are ints anf floats"
   ]
  },
  {
   "cell_type": "code",
   "execution_count": 13,
   "id": "87911957",
   "metadata": {},
   "outputs": [
    {
     "data": {
      "text/html": [
       "<div>\n",
       "<style scoped>\n",
       "    .dataframe tbody tr th:only-of-type {\n",
       "        vertical-align: middle;\n",
       "    }\n",
       "\n",
       "    .dataframe tbody tr th {\n",
       "        vertical-align: top;\n",
       "    }\n",
       "\n",
       "    .dataframe thead th {\n",
       "        text-align: right;\n",
       "    }\n",
       "</style>\n",
       "<table border=\"1\" class=\"dataframe\">\n",
       "  <thead>\n",
       "    <tr style=\"text-align: right;\">\n",
       "      <th></th>\n",
       "      <th>movieId</th>\n",
       "      <th>title</th>\n",
       "      <th>genres</th>\n",
       "      <th>clean_title</th>\n",
       "    </tr>\n",
       "  </thead>\n",
       "  <tbody>\n",
       "    <tr>\n",
       "      <th>5840</th>\n",
       "      <td>5952</td>\n",
       "      <td>Lord of the Rings: The Two Towers, The (2002)</td>\n",
       "      <td>Adventure|Fantasy</td>\n",
       "      <td>Lord of the Rings The Two Towers The 2002</td>\n",
       "    </tr>\n",
       "  </tbody>\n",
       "</table>\n",
       "</div>"
      ],
      "text/plain": [
       "      movieId                                          title  \\\n",
       "5840     5952  Lord of the Rings: The Two Towers, The (2002)   \n",
       "\n",
       "                 genres                                clean_title  \n",
       "5840  Adventure|Fantasy  Lord of the Rings The Two Towers The 2002  "
      ]
     },
     "execution_count": 13,
     "metadata": {},
     "output_type": "execute_result"
    }
   ],
   "source": [
    "#lets search for Lord of the Rings\n",
    "movie_id=5952\n",
    "movie = movie_df[movie_df[\"movieId\"] == movie_id]\n",
    "movie"
   ]
  },
  {
   "cell_type": "code",
   "execution_count": 14,
   "id": "3a011836",
   "metadata": {},
   "outputs": [],
   "source": [
    "#how many users have liked same movie \n",
    "similar_users=ratings[(ratings[\"movieId\"]==movie_id)&(ratings[\"rating\"]>4)][\"userId\"].unique()"
   ]
  },
  {
   "cell_type": "code",
   "execution_count": 15,
   "id": "1f0070b4",
   "metadata": {},
   "outputs": [
    {
     "data": {
      "text/plain": [
       "array([     2,      4,     13, ..., 162532, 162533, 162541], dtype=int64)"
      ]
     },
     "execution_count": 15,
     "metadata": {},
     "output_type": "execute_result"
    }
   ],
   "source": [
    "similar_users"
   ]
  },
  {
   "cell_type": "code",
   "execution_count": 16,
   "id": "9728a22c",
   "metadata": {},
   "outputs": [
    {
     "data": {
      "text/plain": [
       "25118"
      ]
     },
     "execution_count": 16,
     "metadata": {},
     "output_type": "execute_result"
    }
   ],
   "source": [
    "len(similar_users)"
   ]
  },
  {
   "cell_type": "markdown",
   "id": "c4cafef0",
   "metadata": {},
   "source": [
    "Above users have same preference as you🖖"
   ]
  },
  {
   "cell_type": "markdown",
   "id": "355b2462",
   "metadata": {},
   "source": [
    "\n",
    "Those similar users also watched and liked:"
   ]
  },
  {
   "cell_type": "code",
   "execution_count": 17,
   "id": "2c6a8800",
   "metadata": {},
   "outputs": [],
   "source": [
    "similar_users_liked=ratings[(ratings[\"userId\"].isin(similar_users))&(ratings[\"rating\"]>4)]"
   ]
  },
  {
   "cell_type": "code",
   "execution_count": 18,
   "id": "2cf6a36a",
   "metadata": {},
   "outputs": [
    {
     "data": {
      "text/html": [
       "<div>\n",
       "<style scoped>\n",
       "    .dataframe tbody tr th:only-of-type {\n",
       "        vertical-align: middle;\n",
       "    }\n",
       "\n",
       "    .dataframe tbody tr th {\n",
       "        vertical-align: top;\n",
       "    }\n",
       "\n",
       "    .dataframe thead th {\n",
       "        text-align: right;\n",
       "    }\n",
       "</style>\n",
       "<table border=\"1\" class=\"dataframe\">\n",
       "  <thead>\n",
       "    <tr style=\"text-align: right;\">\n",
       "      <th></th>\n",
       "      <th>userId</th>\n",
       "      <th>movieId</th>\n",
       "      <th>rating</th>\n",
       "      <th>timestamp</th>\n",
       "    </tr>\n",
       "  </thead>\n",
       "  <tbody>\n",
       "    <tr>\n",
       "      <th>72</th>\n",
       "      <td>2</td>\n",
       "      <td>110</td>\n",
       "      <td>5.0</td>\n",
       "      <td>1141416589</td>\n",
       "    </tr>\n",
       "    <tr>\n",
       "      <th>74</th>\n",
       "      <td>2</td>\n",
       "      <td>151</td>\n",
       "      <td>4.5</td>\n",
       "      <td>1141415643</td>\n",
       "    </tr>\n",
       "    <tr>\n",
       "      <th>76</th>\n",
       "      <td>2</td>\n",
       "      <td>260</td>\n",
       "      <td>5.0</td>\n",
       "      <td>1141417172</td>\n",
       "    </tr>\n",
       "    <tr>\n",
       "      <th>79</th>\n",
       "      <td>2</td>\n",
       "      <td>318</td>\n",
       "      <td>5.0</td>\n",
       "      <td>1141417181</td>\n",
       "    </tr>\n",
       "    <tr>\n",
       "      <th>80</th>\n",
       "      <td>2</td>\n",
       "      <td>333</td>\n",
       "      <td>5.0</td>\n",
       "      <td>1141415931</td>\n",
       "    </tr>\n",
       "    <tr>\n",
       "      <th>...</th>\n",
       "      <td>...</td>\n",
       "      <td>...</td>\n",
       "      <td>...</td>\n",
       "      <td>...</td>\n",
       "    </tr>\n",
       "    <tr>\n",
       "      <th>25000085</th>\n",
       "      <td>162541</td>\n",
       "      <td>8983</td>\n",
       "      <td>4.5</td>\n",
       "      <td>1240953211</td>\n",
       "    </tr>\n",
       "    <tr>\n",
       "      <th>25000086</th>\n",
       "      <td>162541</td>\n",
       "      <td>31658</td>\n",
       "      <td>4.5</td>\n",
       "      <td>1240953287</td>\n",
       "    </tr>\n",
       "    <tr>\n",
       "      <th>25000089</th>\n",
       "      <td>162541</td>\n",
       "      <td>45517</td>\n",
       "      <td>4.5</td>\n",
       "      <td>1240953353</td>\n",
       "    </tr>\n",
       "    <tr>\n",
       "      <th>25000090</th>\n",
       "      <td>162541</td>\n",
       "      <td>50872</td>\n",
       "      <td>4.5</td>\n",
       "      <td>1240953372</td>\n",
       "    </tr>\n",
       "    <tr>\n",
       "      <th>25000094</th>\n",
       "      <td>162541</td>\n",
       "      <td>63876</td>\n",
       "      <td>5.0</td>\n",
       "      <td>1240952515</td>\n",
       "    </tr>\n",
       "  </tbody>\n",
       "</table>\n",
       "<p>1795254 rows × 4 columns</p>\n",
       "</div>"
      ],
      "text/plain": [
       "          userId  movieId  rating   timestamp\n",
       "72             2      110     5.0  1141416589\n",
       "74             2      151     4.5  1141415643\n",
       "76             2      260     5.0  1141417172\n",
       "79             2      318     5.0  1141417181\n",
       "80             2      333     5.0  1141415931\n",
       "...          ...      ...     ...         ...\n",
       "25000085  162541     8983     4.5  1240953211\n",
       "25000086  162541    31658     4.5  1240953287\n",
       "25000089  162541    45517     4.5  1240953353\n",
       "25000090  162541    50872     4.5  1240953372\n",
       "25000094  162541    63876     5.0  1240952515\n",
       "\n",
       "[1795254 rows x 4 columns]"
      ]
     },
     "execution_count": 18,
     "metadata": {},
     "output_type": "execute_result"
    }
   ],
   "source": [
    "similar_users_liked"
   ]
  },
  {
   "cell_type": "code",
   "execution_count": 19,
   "id": "d7b8461f",
   "metadata": {},
   "outputs": [
    {
     "data": {
      "text/plain": [
       "userId  movieId  rating  timestamp \n",
       "2       110      5.0     1141416589    1\n",
       "109221  59501    5.0     1267892243    1\n",
       "        68358    5.0     1267891285    1\n",
       "        68269    5.0     1267889841    1\n",
       "        68157    5.0     1267928191    1\n",
       "                                      ..\n",
       "55318   293      4.5     1243118031    1\n",
       "        260      5.0     1237763268    1\n",
       "        50       4.5     1237763359    1\n",
       "55316   74458    5.0     1266874885    1\n",
       "162541  63876    5.0     1240952515    1\n",
       "Length: 1795254, dtype: int64"
      ]
     },
     "execution_count": 19,
     "metadata": {},
     "output_type": "execute_result"
    }
   ],
   "source": [
    "similar_users_liked.value_counts()"
   ]
  },
  {
   "cell_type": "markdown",
   "id": "cb7c2cfa",
   "metadata": {},
   "source": [
    "lets pick some common movies all similar users liked. so it can be a cutoff to a recommened list "
   ]
  },
  {
   "cell_type": "code",
   "execution_count": 20,
   "id": "2fef0674",
   "metadata": {},
   "outputs": [
    {
     "data": {
      "text/plain": [
       "72            110\n",
       "74            151\n",
       "76            260\n",
       "79            318\n",
       "80            333\n",
       "            ...  \n",
       "25000085     8983\n",
       "25000086    31658\n",
       "25000089    45517\n",
       "25000090    50872\n",
       "25000094    63876\n",
       "Name: movieId, Length: 1795254, dtype: int64"
      ]
     },
     "execution_count": 20,
     "metadata": {},
     "output_type": "execute_result"
    }
   ],
   "source": [
    "similar_users_watchlist=ratings[(ratings[\"userId\"].isin(similar_users))&(ratings[\"rating\"]>4)][\"movieId\"]\n",
    "similar_users_watchlist"
   ]
  },
  {
   "cell_type": "markdown",
   "id": "00d9dbb0",
   "metadata": {},
   "source": [
    "Above are some of movies liked by similar users."
   ]
  },
  {
   "cell_type": "code",
   "execution_count": 21,
   "id": "2b9e1a6a",
   "metadata": {},
   "outputs": [
    {
     "data": {
      "text/plain": [
       "5952     1.000000\n",
       "4993     0.835496\n",
       "7153     0.805478\n",
       "2571     0.522653\n",
       "318      0.476272\n",
       "           ...   \n",
       "81834    0.102357\n",
       "3000     0.102078\n",
       "588      0.101959\n",
       "1580     0.101242\n",
       "33493    0.100406\n",
       "Name: movieId, Length: 131, dtype: float64"
      ]
     },
     "execution_count": 21,
     "metadata": {},
     "output_type": "execute_result"
    }
   ],
   "source": [
    "similar_users_watch_cutoff = similar_users_watchlist.value_counts() / len(similar_users)\n",
    "\n",
    "similar_users_watch_cutoff = similar_users_watch_cutoff[similar_users_watch_cutoff > .10]\n",
    "similar_users_watch_cutoff"
   ]
  },
  {
   "cell_type": "markdown",
   "id": "32c755ca",
   "metadata": {},
   "source": [
    "To more personalized results I have to exclude some movies liked by all such as blockbusters."
   ]
  },
  {
   "cell_type": "code",
   "execution_count": 22,
   "id": "48dc5c4a",
   "metadata": {},
   "outputs": [],
   "source": [
    "all_users=ratings[(ratings[\"movieId\"].isin(similar_users_watch_cutoff.index))&(ratings[\"rating\"]>4)]"
   ]
  },
  {
   "cell_type": "code",
   "execution_count": 23,
   "id": "887efa86",
   "metadata": {},
   "outputs": [
    {
     "data": {
      "text/html": [
       "<div>\n",
       "<style scoped>\n",
       "    .dataframe tbody tr th:only-of-type {\n",
       "        vertical-align: middle;\n",
       "    }\n",
       "\n",
       "    .dataframe tbody tr th {\n",
       "        vertical-align: top;\n",
       "    }\n",
       "\n",
       "    .dataframe thead th {\n",
       "        text-align: right;\n",
       "    }\n",
       "</style>\n",
       "<table border=\"1\" class=\"dataframe\">\n",
       "  <thead>\n",
       "    <tr style=\"text-align: right;\">\n",
       "      <th></th>\n",
       "      <th>userId</th>\n",
       "      <th>movieId</th>\n",
       "      <th>rating</th>\n",
       "      <th>timestamp</th>\n",
       "    </tr>\n",
       "  </thead>\n",
       "  <tbody>\n",
       "    <tr>\n",
       "      <th>0</th>\n",
       "      <td>1</td>\n",
       "      <td>296</td>\n",
       "      <td>5.0</td>\n",
       "      <td>1147880044</td>\n",
       "    </tr>\n",
       "    <tr>\n",
       "      <th>23</th>\n",
       "      <td>1</td>\n",
       "      <td>3949</td>\n",
       "      <td>5.0</td>\n",
       "      <td>1147868678</td>\n",
       "    </tr>\n",
       "    <tr>\n",
       "      <th>29</th>\n",
       "      <td>1</td>\n",
       "      <td>4973</td>\n",
       "      <td>4.5</td>\n",
       "      <td>1147869080</td>\n",
       "    </tr>\n",
       "    <tr>\n",
       "      <th>37</th>\n",
       "      <td>1</td>\n",
       "      <td>6016</td>\n",
       "      <td>5.0</td>\n",
       "      <td>1147869090</td>\n",
       "    </tr>\n",
       "    <tr>\n",
       "      <th>48</th>\n",
       "      <td>1</td>\n",
       "      <td>7361</td>\n",
       "      <td>5.0</td>\n",
       "      <td>1147880055</td>\n",
       "    </tr>\n",
       "    <tr>\n",
       "      <th>...</th>\n",
       "      <td>...</td>\n",
       "      <td>...</td>\n",
       "      <td>...</td>\n",
       "      <td>...</td>\n",
       "    </tr>\n",
       "    <tr>\n",
       "      <th>25000058</th>\n",
       "      <td>162541</td>\n",
       "      <td>4995</td>\n",
       "      <td>5.0</td>\n",
       "      <td>1240951903</td>\n",
       "    </tr>\n",
       "    <tr>\n",
       "      <th>25000062</th>\n",
       "      <td>162541</td>\n",
       "      <td>5618</td>\n",
       "      <td>4.5</td>\n",
       "      <td>1240953299</td>\n",
       "    </tr>\n",
       "    <tr>\n",
       "      <th>25000065</th>\n",
       "      <td>162541</td>\n",
       "      <td>5952</td>\n",
       "      <td>5.0</td>\n",
       "      <td>1240952617</td>\n",
       "    </tr>\n",
       "    <tr>\n",
       "      <th>25000078</th>\n",
       "      <td>162541</td>\n",
       "      <td>7153</td>\n",
       "      <td>5.0</td>\n",
       "      <td>1240952613</td>\n",
       "    </tr>\n",
       "    <tr>\n",
       "      <th>25000081</th>\n",
       "      <td>162541</td>\n",
       "      <td>7361</td>\n",
       "      <td>4.5</td>\n",
       "      <td>1240953484</td>\n",
       "    </tr>\n",
       "  </tbody>\n",
       "</table>\n",
       "<p>1848218 rows × 4 columns</p>\n",
       "</div>"
      ],
      "text/plain": [
       "          userId  movieId  rating   timestamp\n",
       "0              1      296     5.0  1147880044\n",
       "23             1     3949     5.0  1147868678\n",
       "29             1     4973     4.5  1147869080\n",
       "37             1     6016     5.0  1147869090\n",
       "48             1     7361     5.0  1147880055\n",
       "...          ...      ...     ...         ...\n",
       "25000058  162541     4995     5.0  1240951903\n",
       "25000062  162541     5618     4.5  1240953299\n",
       "25000065  162541     5952     5.0  1240952617\n",
       "25000078  162541     7153     5.0  1240952613\n",
       "25000081  162541     7361     4.5  1240953484\n",
       "\n",
       "[1848218 rows x 4 columns]"
      ]
     },
     "execution_count": 23,
     "metadata": {},
     "output_type": "execute_result"
    }
   ],
   "source": [
    "all_users"
   ]
  },
  {
   "cell_type": "markdown",
   "id": "c1fc997a",
   "metadata": {},
   "source": [
    "These are common movies rated high that existed  our similar users data."
   ]
  },
  {
   "cell_type": "code",
   "execution_count": 24,
   "id": "90431b19",
   "metadata": {},
   "outputs": [
    {
     "name": "stdout",
     "output_type": "stream",
     "text": [
      "\u001b[1m\u001b[41m\u001b[30m Total no of users\n"
     ]
    },
    {
     "data": {
      "text/plain": [
       "150512"
      ]
     },
     "execution_count": 24,
     "metadata": {},
     "output_type": "execute_result"
    }
   ],
   "source": [
    "print(Style.BRIGHT + Back.RED + Fore.BLACK, \"Total no of users\")\n",
    "len(all_users[\"userId\"].unique())\n"
   ]
  },
  {
   "cell_type": "code",
   "execution_count": 25,
   "id": "7cd1c75e",
   "metadata": {},
   "outputs": [
    {
     "name": "stdout",
     "output_type": "stream",
     "text": [
      "\u001b[1m\u001b[41m\u001b[30m Movies watch count:\n"
     ]
    },
    {
     "data": {
      "text/plain": [
       "318      51678\n",
       "296      42988\n",
       "2571     36851\n",
       "356      35527\n",
       "593      34114\n",
       "         ...  \n",
       "88125     5367\n",
       "68358     5268\n",
       "81834     5159\n",
       "5349      5015\n",
       "33493     4003\n",
       "Name: movieId, Length: 131, dtype: int64"
      ]
     },
     "execution_count": 25,
     "metadata": {},
     "output_type": "execute_result"
    }
   ],
   "source": [
    "print(Style.BRIGHT + Back.RED + Fore.BLACK, \"Movies watch count:\")\n",
    "all_users[\"movieId\"].value_counts() \n"
   ]
  },
  {
   "cell_type": "code",
   "execution_count": 26,
   "id": "71065f63",
   "metadata": {},
   "outputs": [],
   "source": [
    "all_user_watchlist=all_users[\"movieId\"].value_counts() / len(all_users[\"userId\"].unique())\n",
    " "
   ]
  },
  {
   "cell_type": "code",
   "execution_count": 27,
   "id": "3a0ca994",
   "metadata": {},
   "outputs": [
    {
     "data": {
      "text/plain": [
       "318      0.343348\n",
       "296      0.285612\n",
       "2571     0.244838\n",
       "356      0.236041\n",
       "593      0.226653\n",
       "           ...   \n",
       "88125    0.035658\n",
       "68358    0.035001\n",
       "81834    0.034276\n",
       "5349     0.033320\n",
       "33493    0.026596\n",
       "Name: movieId, Length: 131, dtype: float64"
      ]
     },
     "execution_count": 27,
     "metadata": {},
     "output_type": "execute_result"
    }
   ],
   "source": [
    "all_user_watchlist"
   ]
  },
  {
   "cell_type": "markdown",
   "id": "1cd4db7a",
   "metadata": {},
   "source": [
    "Above are most probably well liked movies by all. Lets check."
   ]
  },
  {
   "cell_type": "code",
   "execution_count": 28,
   "id": "69928fc3",
   "metadata": {},
   "outputs": [],
   "source": [
    "records=pd.concat([similar_users_watch_cutoff,all_user_watchlist],axis=1)\n",
    "records.columns=[\"similar\",\"all\"]"
   ]
  },
  {
   "cell_type": "code",
   "execution_count": 29,
   "id": "c05f61e6",
   "metadata": {},
   "outputs": [
    {
     "data": {
      "text/html": [
       "<div>\n",
       "<style scoped>\n",
       "    .dataframe tbody tr th:only-of-type {\n",
       "        vertical-align: middle;\n",
       "    }\n",
       "\n",
       "    .dataframe tbody tr th {\n",
       "        vertical-align: top;\n",
       "    }\n",
       "\n",
       "    .dataframe thead th {\n",
       "        text-align: right;\n",
       "    }\n",
       "</style>\n",
       "<table border=\"1\" class=\"dataframe\">\n",
       "  <thead>\n",
       "    <tr style=\"text-align: right;\">\n",
       "      <th></th>\n",
       "      <th>similar</th>\n",
       "      <th>all</th>\n",
       "    </tr>\n",
       "  </thead>\n",
       "  <tbody>\n",
       "    <tr>\n",
       "      <th>1</th>\n",
       "      <td>0.195875</td>\n",
       "      <td>0.125140</td>\n",
       "    </tr>\n",
       "    <tr>\n",
       "      <th>32</th>\n",
       "      <td>0.148021</td>\n",
       "      <td>0.100623</td>\n",
       "    </tr>\n",
       "    <tr>\n",
       "      <th>47</th>\n",
       "      <td>0.241620</td>\n",
       "      <td>0.144945</td>\n",
       "    </tr>\n",
       "    <tr>\n",
       "      <th>50</th>\n",
       "      <td>0.273549</td>\n",
       "      <td>0.201173</td>\n",
       "    </tr>\n",
       "    <tr>\n",
       "      <th>110</th>\n",
       "      <td>0.246994</td>\n",
       "      <td>0.161402</td>\n",
       "    </tr>\n",
       "    <tr>\n",
       "      <th>...</th>\n",
       "      <td>...</td>\n",
       "      <td>...</td>\n",
       "    </tr>\n",
       "    <tr>\n",
       "      <th>91529</th>\n",
       "      <td>0.152003</td>\n",
       "      <td>0.055072</td>\n",
       "    </tr>\n",
       "    <tr>\n",
       "      <th>99114</th>\n",
       "      <td>0.128235</td>\n",
       "      <td>0.057384</td>\n",
       "    </tr>\n",
       "    <tr>\n",
       "      <th>109487</th>\n",
       "      <td>0.164225</td>\n",
       "      <td>0.074286</td>\n",
       "    </tr>\n",
       "    <tr>\n",
       "      <th>112852</th>\n",
       "      <td>0.117525</td>\n",
       "      <td>0.043086</td>\n",
       "    </tr>\n",
       "    <tr>\n",
       "      <th>134130</th>\n",
       "      <td>0.102914</td>\n",
       "      <td>0.044986</td>\n",
       "    </tr>\n",
       "  </tbody>\n",
       "</table>\n",
       "<p>131 rows × 2 columns</p>\n",
       "</div>"
      ],
      "text/plain": [
       "         similar       all\n",
       "1       0.195875  0.125140\n",
       "32      0.148021  0.100623\n",
       "47      0.241620  0.144945\n",
       "50      0.273549  0.201173\n",
       "110     0.246994  0.161402\n",
       "...          ...       ...\n",
       "91529   0.152003  0.055072\n",
       "99114   0.128235  0.057384\n",
       "109487  0.164225  0.074286\n",
       "112852  0.117525  0.043086\n",
       "134130  0.102914  0.044986\n",
       "\n",
       "[131 rows x 2 columns]"
      ]
     },
     "execution_count": 29,
     "metadata": {},
     "output_type": "execute_result"
    }
   ],
   "source": [
    "records"
   ]
  },
  {
   "cell_type": "code",
   "execution_count": 30,
   "id": "9265ec8f",
   "metadata": {},
   "outputs": [],
   "source": [
    "records[\"score\"]=records[\"similar\"]/records[\"all\"]"
   ]
  },
  {
   "cell_type": "code",
   "execution_count": 31,
   "id": "ba3147e6",
   "metadata": {},
   "outputs": [
    {
     "data": {
      "text/html": [
       "<div>\n",
       "<style scoped>\n",
       "    .dataframe tbody tr th:only-of-type {\n",
       "        vertical-align: middle;\n",
       "    }\n",
       "\n",
       "    .dataframe tbody tr th {\n",
       "        vertical-align: top;\n",
       "    }\n",
       "\n",
       "    .dataframe thead th {\n",
       "        text-align: right;\n",
       "    }\n",
       "</style>\n",
       "<table border=\"1\" class=\"dataframe\">\n",
       "  <thead>\n",
       "    <tr style=\"text-align: right;\">\n",
       "      <th></th>\n",
       "      <th>similar</th>\n",
       "      <th>all</th>\n",
       "      <th>score</th>\n",
       "    </tr>\n",
       "  </thead>\n",
       "  <tbody>\n",
       "    <tr>\n",
       "      <th>5952</th>\n",
       "      <td>1.000000</td>\n",
       "      <td>0.166884</td>\n",
       "      <td>5.992197</td>\n",
       "    </tr>\n",
       "    <tr>\n",
       "      <th>7153</th>\n",
       "      <td>0.805478</td>\n",
       "      <td>0.173142</td>\n",
       "      <td>4.652115</td>\n",
       "    </tr>\n",
       "    <tr>\n",
       "      <th>4993</th>\n",
       "      <td>0.835496</td>\n",
       "      <td>0.188131</td>\n",
       "      <td>4.441031</td>\n",
       "    </tr>\n",
       "    <tr>\n",
       "      <th>33493</th>\n",
       "      <td>0.100406</td>\n",
       "      <td>0.026596</td>\n",
       "      <td>3.775249</td>\n",
       "    </tr>\n",
       "    <tr>\n",
       "      <th>5349</th>\n",
       "      <td>0.109364</td>\n",
       "      <td>0.033320</td>\n",
       "      <td>3.282266</td>\n",
       "    </tr>\n",
       "    <tr>\n",
       "      <th>...</th>\n",
       "      <td>...</td>\n",
       "      <td>...</td>\n",
       "      <td>...</td>\n",
       "    </tr>\n",
       "    <tr>\n",
       "      <th>750</th>\n",
       "      <td>0.122900</td>\n",
       "      <td>0.095149</td>\n",
       "      <td>1.291663</td>\n",
       "    </tr>\n",
       "    <tr>\n",
       "      <th>593</th>\n",
       "      <td>0.290469</td>\n",
       "      <td>0.226653</td>\n",
       "      <td>1.281558</td>\n",
       "    </tr>\n",
       "    <tr>\n",
       "      <th>912</th>\n",
       "      <td>0.117326</td>\n",
       "      <td>0.092903</td>\n",
       "      <td>1.262891</td>\n",
       "    </tr>\n",
       "    <tr>\n",
       "      <th>150</th>\n",
       "      <td>0.102675</td>\n",
       "      <td>0.090876</td>\n",
       "      <td>1.129834</td>\n",
       "    </tr>\n",
       "    <tr>\n",
       "      <th>608</th>\n",
       "      <td>0.152878</td>\n",
       "      <td>0.144773</td>\n",
       "      <td>1.055991</td>\n",
       "    </tr>\n",
       "  </tbody>\n",
       "</table>\n",
       "<p>131 rows × 3 columns</p>\n",
       "</div>"
      ],
      "text/plain": [
       "        similar       all     score\n",
       "5952   1.000000  0.166884  5.992197\n",
       "7153   0.805478  0.173142  4.652115\n",
       "4993   0.835496  0.188131  4.441031\n",
       "33493  0.100406  0.026596  3.775249\n",
       "5349   0.109364  0.033320  3.282266\n",
       "...         ...       ...       ...\n",
       "750    0.122900  0.095149  1.291663\n",
       "593    0.290469  0.226653  1.281558\n",
       "912    0.117326  0.092903  1.262891\n",
       "150    0.102675  0.090876  1.129834\n",
       "608    0.152878  0.144773  1.055991\n",
       "\n",
       "[131 rows x 3 columns]"
      ]
     },
     "execution_count": 31,
     "metadata": {},
     "output_type": "execute_result"
    }
   ],
   "source": [
    "records=records.sort_values(\"score\",ascending=False)\n",
    "records"
   ]
  },
  {
   "cell_type": "markdown",
   "id": "56001bc7",
   "metadata": {},
   "source": [
    "lets take top 10 high scored movie for recommendation"
   ]
  },
  {
   "cell_type": "code",
   "execution_count": 32,
   "id": "87a49cb6",
   "metadata": {},
   "outputs": [
    {
     "data": {
      "text/html": [
       "<div>\n",
       "<style scoped>\n",
       "    .dataframe tbody tr th:only-of-type {\n",
       "        vertical-align: middle;\n",
       "    }\n",
       "\n",
       "    .dataframe tbody tr th {\n",
       "        vertical-align: top;\n",
       "    }\n",
       "\n",
       "    .dataframe thead th {\n",
       "        text-align: right;\n",
       "    }\n",
       "</style>\n",
       "<table border=\"1\" class=\"dataframe\">\n",
       "  <thead>\n",
       "    <tr style=\"text-align: right;\">\n",
       "      <th></th>\n",
       "      <th>similar</th>\n",
       "      <th>all</th>\n",
       "      <th>score</th>\n",
       "      <th>movieId</th>\n",
       "      <th>title</th>\n",
       "      <th>genres</th>\n",
       "      <th>clean_title</th>\n",
       "    </tr>\n",
       "  </thead>\n",
       "  <tbody>\n",
       "    <tr>\n",
       "      <th>5840</th>\n",
       "      <td>1.000000</td>\n",
       "      <td>0.166884</td>\n",
       "      <td>5.992197</td>\n",
       "      <td>5952</td>\n",
       "      <td>Lord of the Rings: The Two Towers, The (2002)</td>\n",
       "      <td>Adventure|Fantasy</td>\n",
       "      <td>Lord of the Rings The Two Towers The 2002</td>\n",
       "    </tr>\n",
       "    <tr>\n",
       "      <th>7028</th>\n",
       "      <td>0.805478</td>\n",
       "      <td>0.173142</td>\n",
       "      <td>4.652115</td>\n",
       "      <td>7153</td>\n",
       "      <td>Lord of the Rings: The Return of the King, The...</td>\n",
       "      <td>Action|Adventure|Drama|Fantasy</td>\n",
       "      <td>Lord of the Rings The Return of the King The 2003</td>\n",
       "    </tr>\n",
       "    <tr>\n",
       "      <th>4887</th>\n",
       "      <td>0.835496</td>\n",
       "      <td>0.188131</td>\n",
       "      <td>4.441031</td>\n",
       "      <td>4993</td>\n",
       "      <td>Lord of the Rings: The Fellowship of the Ring,...</td>\n",
       "      <td>Adventure|Fantasy</td>\n",
       "      <td>Lord of the Rings The Fellowship of the Ring T...</td>\n",
       "    </tr>\n",
       "    <tr>\n",
       "      <th>9952</th>\n",
       "      <td>0.100406</td>\n",
       "      <td>0.026596</td>\n",
       "      <td>3.775249</td>\n",
       "      <td>33493</td>\n",
       "      <td>Star Wars: Episode III - Revenge of the Sith (...</td>\n",
       "      <td>Action|Adventure|Sci-Fi</td>\n",
       "      <td>Star Wars Episode III  Revenge of the Sith 2005</td>\n",
       "    </tr>\n",
       "    <tr>\n",
       "      <th>5241</th>\n",
       "      <td>0.109364</td>\n",
       "      <td>0.033320</td>\n",
       "      <td>3.282266</td>\n",
       "      <td>5349</td>\n",
       "      <td>Spider-Man (2002)</td>\n",
       "      <td>Action|Adventure|Sci-Fi|Thriller</td>\n",
       "      <td>SpiderMan 2002</td>\n",
       "    </tr>\n",
       "    <tr>\n",
       "      <th>7742</th>\n",
       "      <td>0.159209</td>\n",
       "      <td>0.048581</td>\n",
       "      <td>3.277188</td>\n",
       "      <td>8368</td>\n",
       "      <td>Harry Potter and the Prisoner of Azkaban (2004)</td>\n",
       "      <td>Adventure|Fantasy|IMAX</td>\n",
       "      <td>Harry Potter and the Prisoner of Azkaban 2004</td>\n",
       "    </tr>\n",
       "    <tr>\n",
       "      <th>5704</th>\n",
       "      <td>0.120710</td>\n",
       "      <td>0.036834</td>\n",
       "      <td>3.277118</td>\n",
       "      <td>5816</td>\n",
       "      <td>Harry Potter and the Chamber of Secrets (2002)</td>\n",
       "      <td>Adventure|Fantasy</td>\n",
       "      <td>Harry Potter and the Chamber of Secrets 2002</td>\n",
       "    </tr>\n",
       "    <tr>\n",
       "      <th>10408</th>\n",
       "      <td>0.123417</td>\n",
       "      <td>0.037984</td>\n",
       "      <td>3.249223</td>\n",
       "      <td>40815</td>\n",
       "      <td>Harry Potter and the Goblet of Fire (2005)</td>\n",
       "      <td>Adventure|Fantasy|Thriller|IMAX</td>\n",
       "      <td>Harry Potter and the Goblet of Fire 2005</td>\n",
       "    </tr>\n",
       "    <tr>\n",
       "      <th>6416</th>\n",
       "      <td>0.249303</td>\n",
       "      <td>0.077110</td>\n",
       "      <td>3.233081</td>\n",
       "      <td>6539</td>\n",
       "      <td>Pirates of the Caribbean: The Curse of the Bla...</td>\n",
       "      <td>Action|Adventure|Comedy|Fantasy</td>\n",
       "      <td>Pirates of the Caribbean The Curse of the Blac...</td>\n",
       "    </tr>\n",
       "    <tr>\n",
       "      <th>4790</th>\n",
       "      <td>0.147106</td>\n",
       "      <td>0.047418</td>\n",
       "      <td>3.102307</td>\n",
       "      <td>4896</td>\n",
       "      <td>Harry Potter and the Sorcerer's Stone (a.k.a. ...</td>\n",
       "      <td>Adventure|Children|Fantasy</td>\n",
       "      <td>Harry Potter and the Sorcerers Stone aka Harry...</td>\n",
       "    </tr>\n",
       "    <tr>\n",
       "      <th>10002</th>\n",
       "      <td>0.227964</td>\n",
       "      <td>0.073576</td>\n",
       "      <td>3.098367</td>\n",
       "      <td>33794</td>\n",
       "      <td>Batman Begins (2005)</td>\n",
       "      <td>Action|Crime|IMAX</td>\n",
       "      <td>Batman Begins 2005</td>\n",
       "    </tr>\n",
       "    <tr>\n",
       "      <th>13285</th>\n",
       "      <td>0.107851</td>\n",
       "      <td>0.035001</td>\n",
       "      <td>3.081409</td>\n",
       "      <td>68358</td>\n",
       "      <td>Star Trek (2009)</td>\n",
       "      <td>Action|Adventure|Sci-Fi|IMAX</td>\n",
       "      <td>Star Trek 2009</td>\n",
       "    </tr>\n",
       "    <tr>\n",
       "      <th>16718</th>\n",
       "      <td>0.108369</td>\n",
       "      <td>0.035658</td>\n",
       "      <td>3.039083</td>\n",
       "      <td>88125</td>\n",
       "      <td>Harry Potter and the Deathly Hallows: Part 2 (...</td>\n",
       "      <td>Action|Adventure|Drama|Fantasy|Mystery|IMAX</td>\n",
       "      <td>Harry Potter and the Deathly Hallows Part 2 2011</td>\n",
       "    </tr>\n",
       "    <tr>\n",
       "      <th>15538</th>\n",
       "      <td>0.102357</td>\n",
       "      <td>0.034276</td>\n",
       "      <td>2.986226</td>\n",
       "      <td>81834</td>\n",
       "      <td>Harry Potter and the Deathly Hallows: Part 1 (...</td>\n",
       "      <td>Action|Adventure|Fantasy|IMAX</td>\n",
       "      <td>Harry Potter and the Deathly Hallows Part 1 2010</td>\n",
       "    </tr>\n",
       "    <tr>\n",
       "      <th>3692</th>\n",
       "      <td>0.113106</td>\n",
       "      <td>0.038236</td>\n",
       "      <td>2.958094</td>\n",
       "      <td>3793</td>\n",
       "      <td>X-Men (2000)</td>\n",
       "      <td>Action|Adventure|Sci-Fi</td>\n",
       "      <td>XMen 2000</td>\n",
       "    </tr>\n",
       "  </tbody>\n",
       "</table>\n",
       "</div>"
      ],
      "text/plain": [
       "        similar       all     score  movieId  \\\n",
       "5840   1.000000  0.166884  5.992197     5952   \n",
       "7028   0.805478  0.173142  4.652115     7153   \n",
       "4887   0.835496  0.188131  4.441031     4993   \n",
       "9952   0.100406  0.026596  3.775249    33493   \n",
       "5241   0.109364  0.033320  3.282266     5349   \n",
       "7742   0.159209  0.048581  3.277188     8368   \n",
       "5704   0.120710  0.036834  3.277118     5816   \n",
       "10408  0.123417  0.037984  3.249223    40815   \n",
       "6416   0.249303  0.077110  3.233081     6539   \n",
       "4790   0.147106  0.047418  3.102307     4896   \n",
       "10002  0.227964  0.073576  3.098367    33794   \n",
       "13285  0.107851  0.035001  3.081409    68358   \n",
       "16718  0.108369  0.035658  3.039083    88125   \n",
       "15538  0.102357  0.034276  2.986226    81834   \n",
       "3692   0.113106  0.038236  2.958094     3793   \n",
       "\n",
       "                                                   title  \\\n",
       "5840       Lord of the Rings: The Two Towers, The (2002)   \n",
       "7028   Lord of the Rings: The Return of the King, The...   \n",
       "4887   Lord of the Rings: The Fellowship of the Ring,...   \n",
       "9952   Star Wars: Episode III - Revenge of the Sith (...   \n",
       "5241                                   Spider-Man (2002)   \n",
       "7742     Harry Potter and the Prisoner of Azkaban (2004)   \n",
       "5704      Harry Potter and the Chamber of Secrets (2002)   \n",
       "10408         Harry Potter and the Goblet of Fire (2005)   \n",
       "6416   Pirates of the Caribbean: The Curse of the Bla...   \n",
       "4790   Harry Potter and the Sorcerer's Stone (a.k.a. ...   \n",
       "10002                               Batman Begins (2005)   \n",
       "13285                                   Star Trek (2009)   \n",
       "16718  Harry Potter and the Deathly Hallows: Part 2 (...   \n",
       "15538  Harry Potter and the Deathly Hallows: Part 1 (...   \n",
       "3692                                        X-Men (2000)   \n",
       "\n",
       "                                            genres  \\\n",
       "5840                             Adventure|Fantasy   \n",
       "7028                Action|Adventure|Drama|Fantasy   \n",
       "4887                             Adventure|Fantasy   \n",
       "9952                       Action|Adventure|Sci-Fi   \n",
       "5241              Action|Adventure|Sci-Fi|Thriller   \n",
       "7742                        Adventure|Fantasy|IMAX   \n",
       "5704                             Adventure|Fantasy   \n",
       "10408              Adventure|Fantasy|Thriller|IMAX   \n",
       "6416               Action|Adventure|Comedy|Fantasy   \n",
       "4790                    Adventure|Children|Fantasy   \n",
       "10002                            Action|Crime|IMAX   \n",
       "13285                 Action|Adventure|Sci-Fi|IMAX   \n",
       "16718  Action|Adventure|Drama|Fantasy|Mystery|IMAX   \n",
       "15538                Action|Adventure|Fantasy|IMAX   \n",
       "3692                       Action|Adventure|Sci-Fi   \n",
       "\n",
       "                                             clean_title  \n",
       "5840           Lord of the Rings The Two Towers The 2002  \n",
       "7028   Lord of the Rings The Return of the King The 2003  \n",
       "4887   Lord of the Rings The Fellowship of the Ring T...  \n",
       "9952     Star Wars Episode III  Revenge of the Sith 2005  \n",
       "5241                                      SpiderMan 2002  \n",
       "7742       Harry Potter and the Prisoner of Azkaban 2004  \n",
       "5704        Harry Potter and the Chamber of Secrets 2002  \n",
       "10408           Harry Potter and the Goblet of Fire 2005  \n",
       "6416   Pirates of the Caribbean The Curse of the Blac...  \n",
       "4790   Harry Potter and the Sorcerers Stone aka Harry...  \n",
       "10002                                 Batman Begins 2005  \n",
       "13285                                     Star Trek 2009  \n",
       "16718   Harry Potter and the Deathly Hallows Part 2 2011  \n",
       "15538   Harry Potter and the Deathly Hallows Part 1 2010  \n",
       "3692                                           XMen 2000  "
      ]
     },
     "execution_count": 32,
     "metadata": {},
     "output_type": "execute_result"
    }
   ],
   "source": [
    "records.head(15).merge(movie_df,left_index=True,right_on=\"movieId\")"
   ]
  },
  {
   "cell_type": "markdown",
   "id": "74138bcd",
   "metadata": {},
   "source": [
    "Finally we got pretty good recommentations based on created scores. "
   ]
  },
  {
   "cell_type": "code",
   "execution_count": 33,
   "id": "fd0191e7",
   "metadata": {},
   "outputs": [],
   "source": [
    "def find_Simialr_users(movieId):\n",
    "    similar_users=ratings[(ratings[\"movieId\"]==movieId)&(ratings[\"rating\"]>4)][\"userId\"].unique()\n",
    "    similar_users_liked=ratings[(ratings[\"userId\"].isin(similar_users))&(ratings[\"rating\"]>4)][\"movieId\"]\n",
    "    \n",
    "    similar_users_liked= similar_users_liked.value_counts() / len(similar_users)\n",
    "    similar_users_liked = similar_users_liked[similar_users_liked > .10]\n",
    "    \n",
    "    all_users=ratings[(ratings[\"movieId\"].isin(similar_users_liked.index))&(ratings[\"rating\"]>4)]\n",
    "    all_user_watchlist=all_users[\"movieId\"].value_counts() / len(all_users[\"userId\"].unique())\n",
    "    \n",
    "    records=pd.concat([similar_users_liked,all_user_watchlist],axis=1)\n",
    "    records.columns=[\"similar\",\"all\"]\n",
    "    \n",
    "    records[\"score\"]=records[\"similar\"]/records[\"all\"]\n",
    "    records=records.sort_values(\"score\",ascending=False)\n",
    "    #display(records.head(15))\n",
    "    return records.head(15).merge(movie_df,left_index=True,right_on=\"movieId\")[[\"score\",\"title\",\"genres\"]]\n",
    "    \n",
    "    \n",
    "    \n",
    "    "
   ]
  },
  {
   "cell_type": "code",
   "execution_count": 34,
   "id": "501aef85",
   "metadata": {},
   "outputs": [],
   "source": [
    "from sklearn.metrics.pairwise import cosine_similarity\n",
    "\n",
    "def search_tittle(tittle):\n",
    "    #tittle=\"Harry Potter\"\n",
    "    #tittle=clean_title(tittle)\n",
    "    queary=vectorizer.transform([tittle])\n",
    "    sim=cosine_similarity(queary,tfidf).flatten()\n",
    "    i=np.argpartition(sim,-7)[-7:]\n",
    "    result=movie_df.iloc[i][::-1]\n",
    "    return result"
   ]
  },
  {
   "cell_type": "code",
   "execution_count": 37,
   "id": "111a2bee",
   "metadata": {},
   "outputs": [
    {
     "data": {
      "application/vnd.jupyter.widget-view+json": {
       "model_id": "906f548955974123b480d8b579286cbd",
       "version_major": 2,
       "version_minor": 0
      },
      "text/plain": [
       "Text(value=' ', description='Movie Title:')"
      ]
     },
     "metadata": {},
     "output_type": "display_data"
    },
    {
     "data": {
      "application/vnd.jupyter.widget-view+json": {
       "model_id": "60fceb6516bf4eb5af9b4ca0c7e81ba4",
       "version_major": 2,
       "version_minor": 0
      },
      "text/plain": [
       "Output()"
      ]
     },
     "metadata": {},
     "output_type": "display_data"
    }
   ],
   "source": [
    "movie_search=wid.Text(\n",
    "              value=\" \",\n",
    "               description=\"Movie Title:\",\n",
    "                disabled=False\n",
    ")\n",
    "\n",
    "movie_list=wid.Output()\n",
    "\n",
    "def search_type(data):\n",
    "    with movie_list:\n",
    "        movie_list.clear_output()\n",
    "        display(data)\n",
    "        tittle=data[\"new\"]\n",
    "        if len(tittle)>3:\n",
    "            search_result=(search_tittle(tittle))\n",
    "            movie_id=search_result.iloc[0][\"movieId\"]\n",
    "            #display(movie_id)\n",
    "            display(find_Simialr_users(movie_id))\n",
    "            \n",
    "movie_search.observe(search_type,names=\"value\")\n",
    "\n",
    "\n",
    "\n",
    "display(movie_search,movie_list)"
   ]
  },
  {
   "cell_type": "code",
   "execution_count": null,
   "id": "9c8866ad",
   "metadata": {},
   "outputs": [],
   "source": []
  }
 ],
 "metadata": {
  "kernelspec": {
   "display_name": "Python 3 (ipykernel)",
   "language": "python",
   "name": "python3"
  },
  "language_info": {
   "codemirror_mode": {
    "name": "ipython",
    "version": 3
   },
   "file_extension": ".py",
   "mimetype": "text/x-python",
   "name": "python",
   "nbconvert_exporter": "python",
   "pygments_lexer": "ipython3",
   "version": "3.9.7"
  }
 },
 "nbformat": 4,
 "nbformat_minor": 5
}
